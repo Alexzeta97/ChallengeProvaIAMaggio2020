{
 "cells": [
  {
   "cell_type": "code",
   "execution_count": 25,
   "id": "7434dcfb",
   "metadata": {},
   "outputs": [
    {
     "name": "stdout",
     "output_type": "stream",
     "text": [
      "Requirement already satisfied: pandas==1.2.4 in /home/alex/anaconda3/envs/challenge-prova/lib/python3.9/site-packages (from -r requirements.txt (line 1)) (1.2.4)\n",
      "Requirement already satisfied: matplotlib==3.4.2 in /home/alex/anaconda3/envs/challenge-prova/lib/python3.9/site-packages (from -r requirements.txt (line 2)) (3.4.2)\n",
      "Requirement already satisfied: seaborn==0.11.1 in /home/alex/anaconda3/envs/challenge-prova/lib/python3.9/site-packages (from -r requirements.txt (line 3)) (0.11.1)\n",
      "Requirement already satisfied: scikit-learn==0.24.2 in /home/alex/anaconda3/envs/challenge-prova/lib/python3.9/site-packages (from -r requirements.txt (line 4)) (0.24.2)\n",
      "Requirement already satisfied: pytz>=2017.3 in /home/alex/anaconda3/envs/challenge-prova/lib/python3.9/site-packages (from pandas==1.2.4->-r requirements.txt (line 1)) (2021.1)\n",
      "Requirement already satisfied: python-dateutil>=2.7.3 in /home/alex/anaconda3/envs/challenge-prova/lib/python3.9/site-packages (from pandas==1.2.4->-r requirements.txt (line 1)) (2.8.1)\n",
      "Requirement already satisfied: numpy>=1.16.5 in /home/alex/anaconda3/envs/challenge-prova/lib/python3.9/site-packages (from pandas==1.2.4->-r requirements.txt (line 1)) (1.20.3)\n",
      "Requirement already satisfied: cycler>=0.10 in /home/alex/anaconda3/envs/challenge-prova/lib/python3.9/site-packages (from matplotlib==3.4.2->-r requirements.txt (line 2)) (0.10.0)\n",
      "Requirement already satisfied: pyparsing>=2.2.1 in /home/alex/anaconda3/envs/challenge-prova/lib/python3.9/site-packages (from matplotlib==3.4.2->-r requirements.txt (line 2)) (2.4.7)\n",
      "Requirement already satisfied: kiwisolver>=1.0.1 in /home/alex/anaconda3/envs/challenge-prova/lib/python3.9/site-packages (from matplotlib==3.4.2->-r requirements.txt (line 2)) (1.3.1)\n",
      "Requirement already satisfied: pillow>=6.2.0 in /home/alex/anaconda3/envs/challenge-prova/lib/python3.9/site-packages (from matplotlib==3.4.2->-r requirements.txt (line 2)) (8.2.0)\n",
      "Requirement already satisfied: scipy>=1.0 in /home/alex/anaconda3/envs/challenge-prova/lib/python3.9/site-packages (from seaborn==0.11.1->-r requirements.txt (line 3)) (1.6.3)\n",
      "Requirement already satisfied: threadpoolctl>=2.0.0 in /home/alex/anaconda3/envs/challenge-prova/lib/python3.9/site-packages (from scikit-learn==0.24.2->-r requirements.txt (line 4)) (2.1.0)\n",
      "Requirement already satisfied: joblib>=0.11 in /home/alex/anaconda3/envs/challenge-prova/lib/python3.9/site-packages (from scikit-learn==0.24.2->-r requirements.txt (line 4)) (1.0.1)\n",
      "Requirement already satisfied: six in /home/alex/anaconda3/envs/challenge-prova/lib/python3.9/site-packages (from cycler>=0.10->matplotlib==3.4.2->-r requirements.txt (line 2)) (1.15.0)\n"
     ]
    }
   ],
   "source": [
    "# Installa tutte le dipendenze.\n",
    "!pip install -r requirements.txt"
   ]
  },
  {
   "cell_type": "code",
   "execution_count": 30,
   "id": "5265292b",
   "metadata": {},
   "outputs": [],
   "source": [
    "# Importa tutte le librerie necessarie.\n",
    "import pandas as pd\n",
    "from sklearn.model_selection import train_test_split"
   ]
  },
  {
   "cell_type": "code",
   "execution_count": 31,
   "id": "ead7ab1a",
   "metadata": {},
   "outputs": [],
   "source": [
    "# Carica l'intero dataset dal disco in un oggetto Pandas DataFrame.\n",
    "dataset = pd.read_csv('mushrooms.partial.csv') "
   ]
  },
  {
   "cell_type": "code",
   "execution_count": 32,
   "id": "b86f6e70",
   "metadata": {},
   "outputs": [],
   "source": [
    "# Suddividi il dataset in training e test.\n",
    "train, test = train_test_split(dataset, test_size = 0.25, random_state = 13)"
   ]
  },
  {
   "cell_type": "code",
   "execution_count": 33,
   "id": "e1b9bfdf",
   "metadata": {},
   "outputs": [],
   "source": [
    "# Salva i due dataset ottenuti sul disco.\n",
    "train.to_csv(\"train.csv\", index = False)\n",
    "test.to_csv(\"test.csv\", index = False)"
   ]
  },
  {
   "cell_type": "code",
   "execution_count": null,
   "id": "435d31ed",
   "metadata": {},
   "outputs": [],
   "source": []
  }
 ],
 "metadata": {
  "kernelspec": {
   "display_name": "Python 3",
   "language": "python",
   "name": "python3"
  },
  "language_info": {
   "codemirror_mode": {
    "name": "ipython",
    "version": 3
   },
   "file_extension": ".py",
   "mimetype": "text/x-python",
   "name": "python",
   "nbconvert_exporter": "python",
   "pygments_lexer": "ipython3",
   "version": "3.9.5"
  }
 },
 "nbformat": 4,
 "nbformat_minor": 5
}
